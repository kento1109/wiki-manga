{
 "cells": [
  {
   "cell_type": "code",
   "execution_count": 1,
   "id": "0f950ef1",
   "metadata": {},
   "outputs": [],
   "source": [
    "import codecs\n",
    "import json\n",
    "import pandas as pd"
   ]
  },
  {
   "cell_type": "code",
   "execution_count": 2,
   "id": "4e3011de",
   "metadata": {},
   "outputs": [],
   "source": [
    "import MeCab\n",
    "mc = MeCab.Tagger (\"-Owakati -d /opt/homebrew/lib/mecab/dic/mecab-ipadic-neologd\")"
   ]
  },
  {
   "cell_type": "code",
   "execution_count": 3,
   "id": "a7c0010e",
   "metadata": {},
   "outputs": [],
   "source": [
    "title_list = []\n",
    "with open('title.txt', 'r') as f:\n",
    "    for line in f:\n",
    "        title_list.append(line.strip())"
   ]
  },
  {
   "cell_type": "code",
   "execution_count": 4,
   "id": "81327345",
   "metadata": {},
   "outputs": [
    {
     "name": "stdout",
     "output_type": "stream",
     "text": [
      "ワールドトリガー\n",
      "銀魂\n",
      "バクマン。\n",
      "黒子のバスケ\n",
      "金色のガッシュ!!\n",
      "EATER\n",
      "からくりサーカス\n",
      "キングダム\n",
      "東京卍リベンジャーズ\n",
      "ジョジョの奇妙な冒険\n",
      "ONE PIECE\n",
      "BLEACH\n",
      "ワンパンマン\n",
      "ハイキュー!!\n",
      "暗殺教室\n",
      "DAYS (漫画)\n",
      "ドメスティックな彼女\n",
      "犬夜叉\n",
      "僕のヒーローアカデミア\n",
      "DEATH NOTE\n",
      "FAIRY TAIL\n",
      "ダイヤのA\n",
      "夜桜さんちの大作戦\n",
      "呪術廻戦\n",
      "地獄楽\n",
      "うえきの法則\n",
      "アイシールド21\n",
      "HUNTER×HUNTER\n",
      "北斗の拳\n",
      "七つの大罪\n",
      "NARUTO -ナルト-\n",
      "鋼の錬金術師\n",
      "マギ\n",
      "シュート!\n",
      "あひるの空\n",
      "ぬらりひょんの孫\n",
      "鬼滅の刃\n",
      "約束のネバーランド\n",
      "SLAM DUNK\n",
      "DEAR BOYS\n",
      "名探偵コナン\n",
      "ドラゴンボール\n",
      "MAJOR\n",
      "GTO\n",
      "らんま1/2\n",
      "めぞん一刻\n",
      "はじめの一歩\n",
      "RAVE (漫画)\n",
      "進撃の巨人\n",
      "ブラッククローバー\n"
     ]
    }
   ],
   "source": [
    "corpus = []\n",
    "\n",
    "with codecs.open('../../../Documents/wiki/wiki.json', 'r', 'utf-8', 'ignore') as f:\n",
    "    for i, line in enumerate(f):\n",
    "        try:\n",
    "            data = json.loads(line)\n",
    "            if data['title'] in title_list:\n",
    "                print(data['title'])\n",
    "                row = {}\n",
    "                row['title'] = data['title']\n",
    "                row['tokens'] = list(set(mc.parse(data['text'].replace('\\n', '')).strip().split()))\n",
    "                corpus.append(row)\n",
    "        except Exception:\n",
    "            pass"
   ]
  },
  {
   "cell_type": "code",
   "execution_count": 5,
   "id": "4512b73b",
   "metadata": {},
   "outputs": [],
   "source": [
    "pd.DataFrame(corpus).to_json(\"manga.json\", force_ascii=False, orient='records')"
   ]
  },
  {
   "cell_type": "code",
   "execution_count": 6,
   "id": "81712672",
   "metadata": {},
   "outputs": [],
   "source": [
    "DATA_TABLE = pd.read_json(\"manga.json\", orient='records')"
   ]
  }
 ],
 "metadata": {
  "kernelspec": {
   "display_name": "Python 3",
   "language": "python",
   "name": "python3"
  },
  "language_info": {
   "codemirror_mode": {
    "name": "ipython",
    "version": 3
   },
   "file_extension": ".py",
   "mimetype": "text/x-python",
   "name": "python",
   "nbconvert_exporter": "python",
   "pygments_lexer": "ipython3",
   "version": "3.9.2"
  }
 },
 "nbformat": 4,
 "nbformat_minor": 5
}
